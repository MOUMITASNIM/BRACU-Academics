{
  "nbformat": 4,
  "nbformat_minor": 0,
  "metadata": {
    "colab": {
      "provenance": []
    },
    "kernelspec": {
      "name": "python3",
      "display_name": "Python 3"
    },
    "language_info": {
      "name": "python"
    }
  },
  "cells": [
    {
      "cell_type": "code",
      "execution_count": 2,
      "metadata": {
        "id": "Y2PKx8Fpp1Qq"
      },
      "outputs": [],
      "source": [
        "#Name : Tasnim Rahman Moumita\n",
        "#ID    : 22301689\n",
        "#Section : 08"
      ]
    },
    {
      "cell_type": "markdown",
      "source": [
        "***TASK-1***"
      ],
      "metadata": {
        "id": "jb8S2wP00mjK"
      }
    },
    {
      "cell_type": "code",
      "source": [
        "import numpy as np\n",
        "\n",
        "#1.\n",
        "# Implementing function to calculate modified Lagrange basis l_k\n",
        "\n",
        "def l_k(data_x, k, x):\n",
        "    even_nodes = data_x[::2]  # Taking only even indexed nodes (x0, x2, x4,.... etc.)\n",
        "    numerator = 1\n",
        "    denominator = 1\n",
        "\n",
        "    for j in range(len(even_nodes)):\n",
        "        if j != k:\n",
        "            numerator *= (x - even_nodes[j])\n",
        "            denominator *= (even_nodes[k] - even_nodes[j])\n",
        "\n",
        "    return numerator / denominator\n",
        "\n",
        "#2.\n",
        "# Implementing function to calculate the modified Lagrange polynomial:\n",
        "\n",
        "def get_poly_lagrange(data_x, data_y, x):\n",
        "    result = 0\n",
        "    n = len(data_y) - 1       # as the access from yn, yn-1, ..., y0\n",
        "    even_nodes = data_x[::2]  # Taking only even indexed nodes\n",
        "\n",
        "    for k in range(len(even_nodes)):\n",
        "        result += l_k(data_x, k, x) * data_y[n - 2*k]\n",
        "\n",
        "    return result\n",
        "\n",
        "# Given data points:\n",
        "data_x = [1, 4, 6, 8]\n",
        "data_y = [3, 5, 8, 14]\n",
        "\n",
        "# for getting 40 evenly spaced points between x=2 and x=7\n",
        "\n",
        "x_values = np.linspace(2,7,40)\n",
        "\n",
        "# Evaluating and printing outputs :\n",
        "\n",
        "outputs = []\n",
        "for x in x_values:\n",
        "    y = get_poly_lagrange(data_x, data_y, x)\n",
        "    outputs.append(y)\n",
        "\n",
        "# Printing the results vertically so that is becomes easy to check:\n",
        "\n",
        "for value in outputs:\n",
        "    print(value)\n"
      ],
      "metadata": {
        "colab": {
          "base_uri": "https://localhost:8080/"
        },
        "id": "eb6_pDBYzy1-",
        "outputId": "f11bbd8d-d48e-4f37-f890-d2993c074294"
      },
      "execution_count": 16,
      "outputs": [
        {
          "output_type": "stream",
          "name": "stdout",
          "text": [
            "12.200000000000001\n",
            "11.96923076923077\n",
            "11.73846153846154\n",
            "11.507692307692308\n",
            "11.276923076923076\n",
            "11.046153846153846\n",
            "10.815384615384616\n",
            "10.584615384615386\n",
            "10.353846153846154\n",
            "10.123076923076923\n",
            "9.892307692307693\n",
            "9.661538461538463\n",
            "9.430769230769231\n",
            "9.2\n",
            "8.96923076923077\n",
            "8.73846153846154\n",
            "8.50769230769231\n",
            "8.27692307692308\n",
            "8.046153846153846\n",
            "7.815384615384615\n",
            "7.584615384615385\n",
            "7.353846153846154\n",
            "7.1230769230769235\n",
            "6.892307692307693\n",
            "6.661538461538463\n",
            "6.430769230769233\n",
            "6.2\n",
            "5.969230769230769\n",
            "5.738461538461539\n",
            "5.507692307692309\n",
            "5.276923076923078\n",
            "5.046153846153846\n",
            "4.815384615384616\n",
            "4.584615384615386\n",
            "4.353846153846154\n",
            "4.123076923076923\n",
            "3.8923076923076927\n",
            "3.661538461538463\n",
            "3.4307692307692306\n",
            "3.1999999999999997\n"
          ]
        }
      ]
    },
    {
      "cell_type": "markdown",
      "source": [
        "***TASK-2***"
      ],
      "metadata": {
        "id": "yOkwIPTs5I3a"
      }
    },
    {
      "cell_type": "code",
      "source": [
        "import numpy as np\n",
        "\n",
        "#1.\n",
        "# Function to calculate the divided differences matrix\n",
        "\n",
        "\n",
        "def calc_divided_diff(x_list, y_list):\n",
        "\n",
        "    n = len(x_list)\n",
        "\n",
        "    # Creating an array with all zeros\n",
        "    divided_diff = np.zeros((n, n))\n",
        "\n",
        "    # First column is  the y values\n",
        "\n",
        "    for i in range(n):\n",
        "        divided_diff[i][0] = y_list[i]\n",
        "\n",
        "    #filling up the rest of the table:\n",
        "\n",
        "    for j in range(1, n):\n",
        "        for i in range(n - j):\n",
        "            numerator = divided_diff[i+1][j-1] - divided_diff[i][j-1]\n",
        "            denominator = x_list[i+j] - x_list[i]\n",
        "            divided_diff[i][j] = numerator / denominator\n",
        "\n",
        "    # Printing the divided differences matrix:\n",
        "\n",
        "    print(\" The Divided Differences Matrix is written below:\")\n",
        "    for row in divided_diff:\n",
        "        print(row)\n",
        "\n",
        "    return divided_diff\n",
        "\n",
        "# Given data points:\n",
        "x_list = [1, 3, 4, 6, 7, 11]\n",
        "y_list = [5, 8, 10, 13, 18, 23]\n",
        "\n",
        "# Calling the function:\n",
        "divided_diff_matrix = calc_divided_diff(x_list, y_list)\n"
      ],
      "metadata": {
        "colab": {
          "base_uri": "https://localhost:8080/"
        },
        "id": "XSin_HeqwL75",
        "outputId": "ecacd1d7-bfdc-427d-eb73-3f31a1056970"
      },
      "execution_count": 17,
      "outputs": [
        {
          "output_type": "stream",
          "name": "stdout",
          "text": [
            " The Divided Differences Matrix is written below:\n",
            "[ 5.          1.5         0.16666667 -0.06666667  0.06666667 -0.01425595]\n",
            "[ 8.          2.         -0.16666667  0.33333333 -0.07589286  0.        ]\n",
            "[10.          1.5         1.16666667 -0.27380952  0.          0.        ]\n",
            "[13.    5.   -0.75  0.    0.    0.  ]\n",
            "[18.    1.25  0.    0.    0.    0.  ]\n",
            "[23.  0.  0.  0.  0.  0.]\n"
          ]
        }
      ]
    }
  ]
}