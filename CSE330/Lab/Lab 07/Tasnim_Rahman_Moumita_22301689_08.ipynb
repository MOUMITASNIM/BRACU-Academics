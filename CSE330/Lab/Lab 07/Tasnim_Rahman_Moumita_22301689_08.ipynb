{
  "nbformat": 4,
  "nbformat_minor": 0,
  "metadata": {
    "colab": {
      "provenance": []
    },
    "kernelspec": {
      "name": "python3",
      "display_name": "Python 3"
    },
    "language_info": {
      "name": "python"
    }
  },
  "cells": [
    {
      "cell_type": "markdown",
      "source": [
        "Make sure you remove `raise NotImplementedError()` and fill in any place that says `# YOUR CODE HERE`, as well as your `NAME`, `ID`, and `LAB_SECTION` below:"
      ],
      "metadata": {
        "id": "wwuJllZf2gbd"
      }
    },
    {
      "cell_type": "code",
      "metadata": {
        "id": "yRMG6NyDgxwa"
      },
      "source": [
        "NAME = \"TASNIM RAHMAN MOUMITA\"\n",
        "ID = \"22301689\"\n",
        "SECTION = \"08\""
      ],
      "execution_count": null,
      "outputs": []
    },
    {
      "cell_type": "markdown",
      "source": [
        "# Part 1: Solving a linear system using inverse matrix - 1 Marks\n",
        "\n",
        "We have a linear system\n",
        "\n",
        "\\begin{align}\n",
        "&a_{11} x_1 + a_{12} x_2 +  \\cdots  + a_{1n} x_n = b_1\\\\\n",
        "&a_{21} x_1 + a_{22} x_2 +  \\cdots + a_{2n} x_n = b_2\\\\\n",
        "&\\cdots\\\\\n",
        "&a_{n1} x_1 + a_{n2} x_2 +  \\cdots + a_{nn} x_n = b_n\\\\\n",
        "\\end{align}\n",
        "\n",
        "It is convenient to express this system in the\n",
        "matrix form\n",
        "\n",
        "\\begin{align}\n",
        "Ax = b\n",
        "\\end{align}\n",
        "\n",
        "where $A$ is an $n \\times n$ square matrix with elements $a_{ij}$, and $x$, $b$ are $n \\times 1$ vectors.\n",
        "\n",
        "We have to keep in mind that this system will have a unique solution iff $A$ is non-singular, given by $x = A^{-1}b.$"
      ],
      "metadata": {
        "id": "cbYDwRgN3vcq"
      }
    },
    {
      "cell_type": "code",
      "source": [
        "import matplotlib.pyplot as plt\n",
        "import numpy as np\n",
        "import sys"
      ],
      "metadata": {
        "id": "aQX8PNoJ39Ak"
      },
      "execution_count": 1,
      "outputs": []
    },
    {
      "cell_type": "code",
      "source": [
        "def get_result_by_inverse_matrix(A, b):\n",
        "  # A and b are numpy arrays\n",
        "\n",
        "  # first check if the A is non-singular matrix. We know that the determinant of\n",
        "  # a non-singular matrix will be non-zero\n",
        "\n",
        "\n",
        "  # YOUR CODE HERE\n",
        "  #raise NotImplementedError()\n",
        "  dt_A = np.linalg.det(A)\n",
        "  if dt_A == 0:\n",
        "    sys.exit(\"\")\n",
        "  else:\n",
        "    inv_A = np.linalg.inv(A)\n",
        "    x = np.dot(inv_A,b)\n",
        "\n",
        "\n",
        "  # # HINT:\n",
        "  # You may find functions such as linalg.det(), linalg.inv, etc. of the numpy package useful\n",
        "\n",
        "    return x"
      ],
      "metadata": {
        "id": "liidjMKS-DBM"
      },
      "execution_count": 2,
      "outputs": []
    },
    {
      "cell_type": "code",
      "source": [
        "# Test case for the get_result_by_inverse_matrix(A, b) function.\n",
        "\n",
        "data_A = np.array([[1, 2, 1], [1, -2, 2], [2, 12, -2]])\n",
        "data_b = np.array([0,4,4])\n",
        "\n",
        "test = get_result_by_inverse_matrix(data_A, data_b)\n",
        "results = [11, -2.5, -6]\n",
        "\n",
        "np.testing.assert_array_equal(test, results)"
      ],
      "metadata": {
        "id": "Ege-eIAp-CTV"
      },
      "execution_count": 3,
      "outputs": []
    },
    {
      "cell_type": "markdown",
      "source": [
        "# Part 2: Gaussian elimination - 1.5 Marks\n",
        "\n",
        "Gaussian elimination uses elementary row operations to transform the system to upper triangular form $Ux = y$.\n",
        "\n",
        "Elementary row operations include swapping rows and adding multiples of one rowto another.\n",
        "They won’t change the solution $x$, but will change the matrix $A$ and the right-hand side $b$.\n",
        "\n",
        "The upper triangular matrix, $𝑈$, is defined as\n",
        "\n",
        "\\begin{bmatrix}\n",
        "u_{11} & u_{12} & \\cdots & u_{1n}\\\\\n",
        "0 & u_{22} & \\cdots & u_{2n}\\\\\n",
        "\\vdots & \\vdots & \\ddots & \\vdots\\\\\n",
        "0 & \\cdots & 0 & u_{nn}\\\\\n",
        "\\end{bmatrix}\n"
      ],
      "metadata": {
        "id": "eyAJANDCC08f"
      }
    },
    {
      "cell_type": "markdown",
      "source": [
        "**Algorithm of Gaussian elimination**\n",
        "\n",
        "Let $A^{(1)}=A$ and $b^{(1)}=b$. Then for each k from 1 to $n-1$, compute a new matrix $A^{(k+1)}$ and right-hand side $b^{(k+1)}$ by the following procedure:\n",
        "\n",
        "\n",
        "1.   Define the row multipliers\n",
        "\n",
        "\\begin{align}\n",
        "m_{ij} = \\frac{a_{ik}^{(k)}}{a_{kk}^{(k)}}, i=k+1,\\cdot \\cdot \\cdot,n.\n",
        "\\end{align}\n",
        "2.   Use these to remove the unknown $x_k$ from equations $k + 1$ to $n$, leaving\n",
        "\n",
        "\\begin{align}\n",
        "a_{ij}^{(k+1)}=a_{ij}^{(k)}-m_{ik}a_{kj}^{(k)}, b_{i}^{(k+1)}=b_{i}^{(k)}-m_{ik}b_{k}^{(k)}, i,j=k+1,\\cdot \\cdot \\cdot, n.\n",
        "\\end{align}\n",
        "\n",
        "It is helpful to combine these matrices to form an Augmented matrix (matrix $𝑏$ is the fourth column). We will perform this row operations on the Augmented matrix. It takes care of both $𝐴$ and $𝑏$ matrixes at the same time.\n",
        "\n",
        "After generating the upper triangular matrix, we have to apply **backward substitution method**.\n",
        "For any $n \\times n$ upper triangular system, $Ux = b$, the solution is:\n",
        "\n",
        "\\begin{align}\n",
        "x_j = \\frac{b_j-\\sum_{k=j+1}^{n}u_{jk}x_k}{u_{jj}}, j = n, n-1, \\cdot\\cdot\\cdot, 1.\n",
        "\\end{align}\n",
        "\n",
        "Here we assumed that $det𝑈≠0$.\n"
      ],
      "metadata": {
        "id": "fZXuDaxsPhJm"
      }
    },
    {
      "cell_type": "code",
      "source": [
        "def get_result_gaussian_elimination(n, A):\n",
        "  # n is the number of unknowns\n",
        "  # A is the Augmented n x n+1 matrix. (numpy array)\n",
        "\n",
        "\n",
        "  # Making numpy array of n size and initializing\n",
        "  # to zero for storing solution vector\n",
        "  x = np.zeros(n)\n",
        "\n",
        "\n",
        "  # YOUR CODE HERE\n",
        "  #raise NotImplementedError()\n",
        "\n",
        "  for col in range(n):\n",
        "    for row in range(col+1,n):\n",
        "      multiplier = A[row][col]/A[col][col]\n",
        "      for i in range(n+1):\n",
        "        A[row][i] = A[row][i] - multiplier * A[col][i]\n",
        "\n",
        "\n",
        "  x[n-1] = A[n-1][n]/A[n-1][n-1]\n",
        "  for i in range(n-2,-1,-1):\n",
        "    x[i] = A[i][n]\n",
        "    for j in range(i+1,n):\n",
        "      x[i] = x[i] - A[i][j]*x[j]\n",
        "    x[i] = x[i]/A[i][i]\n",
        "\n",
        "\n",
        "  # HINT:\n",
        "  # 1. Apply Gauss Elimination\n",
        "  # 2. Apply Back Substitution\n",
        "\n",
        "  return x"
      ],
      "metadata": {
        "id": "r0-WCKM1OZKC"
      },
      "execution_count": 4,
      "outputs": []
    },
    {
      "cell_type": "code",
      "source": [
        "# Test case for the get_result_gaussian_elimination(n, A) function.\n",
        "\n",
        "data_n = 3\n",
        "data_A = np.array([[1, 2, 1, 0], [1, -2, 2, 4], [2, 12, -2, 4]])\n",
        "\n",
        "test = get_result_gaussian_elimination(data_n, data_A)\n",
        "results = [11, -2.5, -6]\n",
        "\n",
        "np.testing.assert_array_equal(test, results)"
      ],
      "metadata": {
        "id": "IjJuvkTBUifb"
      },
      "execution_count": 5,
      "outputs": []
    },
    {
      "cell_type": "markdown",
      "source": [
        "# Part 3: LU Decomposition - 1.5 Marks\n",
        "\n",
        "We will transform the $n \\times n$ matrix $A$ into a product of two triangular matrix: one lower triangular $(L)$ and the other upper triangular $(U)$.\n",
        "\n",
        "\\begin{align}\n",
        "A = LU\n",
        "\\end{align}\n",
        "\n",
        "**Algorithm of LU decomposition:**\n",
        "\n",
        "\n",
        "1.   Initialize  $L$  to an identity matrix,  $I$  of dimension  $n×n$  and  $U=A$ .\n",
        "2.   For  $i=1,…,n$  do Step $3$\n",
        "3.   &nbsp;&nbsp; For  $j=i+1,…,n$  do Steps $4$-$5$\n",
        "4.  &nbsp;&nbsp;&nbsp;&nbsp;&nbsp;Set  $l_{ji}=u_{ji}/u_{ii}$\n",
        "5. &nbsp;&nbsp;&nbsp;&nbsp;&nbsp;Perform  $U_j=(U_j−l_{ji}U_i)$  (where  $U_i,U_j$  represent the  $i$  and  $j$  rows of the matrix  $U,$  respectively)"
      ],
      "metadata": {
        "id": "M3p-B1COVpnF"
      }
    },
    {
      "cell_type": "markdown",
      "source": [
        "*   We know, The linear system in matrix form is $𝐴𝑥=𝑏$.\n",
        "*   Using the decomposition, we get $𝐿𝑈𝑥=𝑏$.\n",
        "*    Now, let $𝑈𝑥=𝑦⟹𝐿𝑦=𝑏$.\n",
        "*   Since $𝐿$ is lower triangular, we solve $𝐿𝑦=𝑏$ to obtain $𝑦$ by forward substitution.\n",
        "*   Since $𝑈$ and $𝑦$ are known, we solve $𝑈𝑥=𝑦$ to obtain $𝑥$ by backward substitution."
      ],
      "metadata": {
        "id": "7RhuPID0ohf7"
      }
    },
    {
      "cell_type": "code",
      "source": [
        "def lu(A):\n",
        "\n",
        "  #Get the number of rows\n",
        "  n = A.shape[0]\n",
        "\n",
        "  U = A.copy()\n",
        "  L = np.eye(n, dtype=np.double)\n",
        "\n",
        "\n",
        "   # YOUR CODE HERE\n",
        "  #raise NotImplementedError()\n",
        "  for i in range(0,len(A)) :\n",
        "    if A[i][i] == 0 :\n",
        "        continue\n",
        "    for j in range(i+1,len(A)) :\n",
        "        m = A[j][i]/A[i][i]\n",
        "        L[j][i] += m\n",
        "        for k in range(0,len(A)) :\n",
        "            A[j][k] = A[j][k] - m*A[i][k]\n",
        "    U = A\n",
        "\n",
        "\n",
        "  # HINT:\n",
        "  #Loop over rows\n",
        "  # for i in range(n):\n",
        "    #Eliminate entries below i with row operations\n",
        "    #on U and reverse the row operations to\n",
        "    #manipulate L\n",
        "\n",
        "  return L, U\n",
        "\n",
        "\n",
        "\n",
        "def forward_substitution(L, b):\n",
        "\n",
        "  #Get number of rows\n",
        "  n = L.shape[0]\n",
        "\n",
        "  #Allocating space for the solution vector\n",
        "  y = np.zeros_like(b, dtype=np.double);\n",
        "\n",
        "\n",
        "  # YOUR CODE HERE\n",
        "  #raise NotImplementedError()\n",
        "  y = np.linalg.inv(L).dot(b)\n",
        "\n",
        "\n",
        "  # HINT:\n",
        "  #Perform the forward-substitution.\n",
        "  #Initialize  with the first row.\n",
        "  #Loop over rows in reverse (from the bottom  up),\n",
        "  #Start with the second to last row, because  the\n",
        "  #last row solve was completed in the last step.\n",
        "\n",
        "  return y\n",
        "\n",
        "\n",
        "\n",
        "def back_substitution(U, y):\n",
        "\n",
        "  #Number of rows\n",
        "  n = U.shape[0]\n",
        "\n",
        "  #Allocating space for the solution vector\n",
        "  x = np.zeros_like(y, dtype=np.double);\n",
        "\n",
        "\n",
        "  # YOUR CODE HERE\n",
        "  #raise NotImplementedError()\n",
        "  x = np.linalg.inv(U).dot(y)\n",
        "\n",
        "  # HINT:\n",
        "  #Perform the back-substitution.\n",
        "  #Initialize with the last row.\n",
        "  #Loop over rows in reverse (from the bottom up),\n",
        "  #Start with the second to last row, because the\n",
        "  #last row solve was completed in the last step.\n",
        "\n",
        "  return x\n",
        "\n",
        "\n",
        "\n",
        "def lu_solve(A, b):\n",
        "\n",
        "  L, U = lu(A)\n",
        "\n",
        "  y = forward_substitution(L, b)\n",
        "\n",
        "  return back_substitution(U, y)"
      ],
      "metadata": {
        "id": "8092-oCDnyfV"
      },
      "execution_count": 7,
      "outputs": []
    },
    {
      "cell_type": "code",
      "source": [
        "# Test case for the lu_solve(A, b) function.\n",
        "\n",
        "data_A = np.array([[1., 2., 1.], [1., -2., 2.], [2., 12., -2.]])\n",
        "data_b = np.array([0., 4., 4.])\n",
        "\n",
        "test = lu_solve(data_A, data_b)\n",
        "results = [11, -2.5, -6]\n",
        "\n",
        "np.testing.assert_array_equal(test, results)"
      ],
      "metadata": {
        "id": "6VxxfL2LqKqL"
      },
      "execution_count": 8,
      "outputs": []
    },
    {
      "cell_type": "markdown",
      "source": [
        "# Daily Evaluation - 4 Marks"
      ],
      "metadata": {
        "id": "EDhqIUdo0InV"
      }
    },
    {
      "cell_type": "markdown",
      "source": [
        "![Capture.JPG](data:image/jpeg;base64,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)"
      ],
      "metadata": {
        "id": "IqUBFp7pDVGD"
      }
    },
    {
      "cell_type": "code",
      "source": [
        "#**# Answer #**#\n",
        "\n",
        "import numpy as np\n",
        "\n",
        "A = np.array([\n",
        "    [2, 3, -1],\n",
        "    [-1, 2, 3],\n",
        "    [3, 1, 2]\n",
        "], dtype=np.double)\n",
        "\n",
        "b = np.array([8, 1, 9], dtype=np.double)\n",
        "\n",
        "##Answer-(a)): Augmented Matrix :\n",
        "\n",
        "aug_matrix = np.column_stack((A, b))\n",
        "print(\"Augmented Matrix:\")\n",
        "print(aug_matrix)\n",
        "\n",
        "\n",
        "##Answer-(b): Gaussian Elimination :\n",
        "\n",
        "\n",
        "data_num = 3\n",
        "\n",
        "aug_for_gauss = np.array([\n",
        "    [2, 3, -1, 8],\n",
        "    [-1, 2, 3, 1],\n",
        "    [3, 1, 2, 9]\n",
        "], dtype=np.double)\n",
        "\n",
        "gaussian_result = get_result_gaussian_elimination(data_n, aug_for_gauss)\n",
        "print(\"Solving using Gaussian Elimination:\", gaussian_result)\n",
        "\n",
        "## Answer-(c): Inverse Matrix Method :\n",
        "\n",
        "\n",
        "inverse_result = get_result_by_inverse_matrix(A, b)\n",
        "print(\"Solving using Inverse Matrix:\", inverse_result)\n",
        "\n",
        "#checking if the same result of part b and c  are equal or not:\n",
        "\n",
        "\n",
        "#yes, from the above calculation and outputs found below, it can be said that, we got the same result."
      ],
      "metadata": {
        "id": "VaxQVt7P0MMg",
        "colab": {
          "base_uri": "https://localhost:8080/"
        },
        "outputId": "51e32f08-1966-4db8-f354-15120920f5e7"
      },
      "execution_count": 11,
      "outputs": [
        {
          "output_type": "stream",
          "name": "stdout",
          "text": [
            "Augmented Matrix:\n",
            "[[ 2.  3. -1.  8.]\n",
            " [-1.  2.  3.  1.]\n",
            " [ 3.  1.  2.  9.]]\n",
            "Solving using Gaussian Elimination: [2.38095238 1.19047619 0.33333333]\n",
            "Solving using Inverse Matrix: [2.38095238 1.19047619 0.33333333]\n"
          ]
        }
      ]
    }
  ]
}