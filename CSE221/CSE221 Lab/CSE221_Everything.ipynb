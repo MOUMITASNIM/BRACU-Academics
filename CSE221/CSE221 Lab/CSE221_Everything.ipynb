{
  "nbformat": 4,
  "nbformat_minor": 0,
  "metadata": {
    "colab": {
      "provenance": [],
      "collapsed_sections": [
        "VRyWrvyaJDz0",
        "0wdx48pnN9lb",
        "F9lOseuZ5MpU",
        "HVcoGkO74CK1",
        "iEQ99L1BD4xo"
      ]
    },
    "kernelspec": {
      "name": "python3",
      "display_name": "Python 3"
    },
    "language_info": {
      "name": "python"
    }
  },
  "cells": [
    {
      "cell_type": "markdown",
      "source": [
        "#Others"
      ],
      "metadata": {
        "id": "VRyWrvyaJDz0"
      }
    },
    {
      "cell_type": "code",
      "execution_count": null,
      "metadata": {
        "colab": {
          "base_uri": "https://localhost:8080/"
        },
        "id": "7VYPcvlo-rGO",
        "outputId": "d9db2fc2-7a5a-4df9-b2b7-ab1e2f00eb9c"
      },
      "outputs": [
        {
          "output_type": "stream",
          "name": "stdout",
          "text": [
            "[[0, 0, 0, 0, 0, 0], [0, 0, 0, 0, 0, 0], [0, 0, 0, 0, 0, 0], [0, 0, 0, 0, 0, 0], [0, 0, 0, 0, 0, 0], [0, 0, 0, 0, 0, 0]]\n",
            "##################\n",
            "[0, 0, 0, 0, 0, 0]\n",
            "[0, 0, 3, 0, 0, 0]\n",
            "[0, 0, 0, 0, 0, 0]\n",
            "[0, 0, 0, 0, 0, 0]\n",
            "[0, 0, 0, 0, 3, 0]\n",
            "[0, 0, 0, 0, 0, 0]\n",
            "##################\n",
            "[0, 0, 0, 0, 0, 0]\n",
            "[0, 0, 3, 0, 0, 0]\n",
            "[0, 0, 0, 0, 0, 0]\n",
            "[0, 0, 0, 0, 1, 0]\n",
            "[0, 0, 0, 0, 3, 0]\n",
            "[0, 0, 0, 0, 0, 0]\n",
            "##################\n",
            "[0, 0, 3, 0, 0, 0]\n"
          ]
        }
      ],
      "source": [
        "n = 5\n",
        "m = 7\n",
        "li = [[0]*(n+1) for j in range(n+1)]\n",
        "print(li)\n",
        "print(\"##################\")\n",
        "# for i in range(len(li)) :\n",
        "#   print(li[i])\n",
        "li[1][2] = 3\n",
        "# for i in range(len(li)) :\n",
        "#   print(li[i])\n",
        "li[4][4] = 3\n",
        "for i in range(len(li)) :\n",
        "  print(li[i])\n",
        "print(\"##################\")\n",
        "li[3][4] = 1\n",
        "for row in li :\n",
        "  print(row)\n",
        "print(\"##################\")\n",
        "print(li[1])"
      ]
    },
    {
      "cell_type": "markdown",
      "source": [
        "#LAB_04"
      ],
      "metadata": {
        "id": "0wdx48pnN9lb"
      }
    },
    {
      "cell_type": "markdown",
      "source": [
        "task1A"
      ],
      "metadata": {
        "id": "wQ_GA-EUOA0D"
      }
    },
    {
      "cell_type": "code",
      "source": [
        "inp = open(\"/content/input.txt\",\"r\")\n",
        "output = open(\"/content/output.txt\",\"w\")\n",
        "N,M = map(int,inp.readline().split(\" \"))\n",
        "# print(N)\n",
        "# print(M)\n",
        "matrix = [[0]*(N+1) for j in range(N+1)]\n",
        "# print(matrix)\n",
        "for i in range(M) :\n",
        "  a,b,c = map(int,inp.readline().split(\" \"))\n",
        "  matrix[a][b] = c\n",
        "  # matrix[u][v] = w\n",
        "# print(matrix)\n",
        "for i in range(len(matrix)) :\n",
        "  for j in range(len(matrix[i])) :\n",
        "    print(matrix[i][j],end=\" \")\n",
        "  print()\n",
        "output.close()"
      ],
      "metadata": {
        "colab": {
          "base_uri": "https://localhost:8080/"
        },
        "id": "miku90XROC59",
        "outputId": "3648a493-04c9-42ae-c296-11028a76f230"
      },
      "execution_count": null,
      "outputs": [
        {
          "output_type": "stream",
          "name": "stdout",
          "text": [
            "0 0 0 0 0 \n",
            "0 0 0 8 2 \n",
            "0 0 0 0 0 \n",
            "0 0 5 0 0 \n",
            "0 0 0 0 0 \n"
          ]
        }
      ]
    },
    {
      "cell_type": "markdown",
      "source": [
        "task1b"
      ],
      "metadata": {
        "id": "TOS_jFvFRzBk"
      }
    },
    {
      "cell_type": "code",
      "source": [
        "inp = open(\"/content/input.txt\",\"r\")\n",
        "output = open(\"/content/output.txt\",\"w\")\n",
        "N,M = map(int,inp.readline().split(\" \"))\n",
        "li = [[] for i in range(N+1)]\n",
        "# print(li)\n",
        "for i in range(M) :\n",
        "  u,v,w = map(int,inp.readline().split(\" \"))\n",
        "  item = tuple([v,w])\n",
        "  li[u].append(item)\n",
        "# print(li)\n",
        "for i in range(len(li)) :\n",
        "  print(i,\": \",end=\"\")\n",
        "  for j in li[i] :\n",
        "    print(j,end=\" \")\n",
        "  print()"
      ],
      "metadata": {
        "colab": {
          "base_uri": "https://localhost:8080/"
        },
        "id": "_qQFKsklRybL",
        "outputId": "b2f445c5-3490-4588-838b-30798e8d6b71"
      },
      "execution_count": null,
      "outputs": [
        {
          "output_type": "stream",
          "name": "stdout",
          "text": [
            "0 : \n",
            "1 : (9, 4) \n",
            "2 : (1, 10) \n",
            "3 : (1, 15) (9, 8) (8, 4) (7, 3) \n",
            "4 : (3, 2) \n",
            "5 : (4, 7) (3, 1) (8, 2) \n",
            "6 : \n",
            "7 : (1, 13) \n",
            "8 : (7, 5) \n",
            "9 : (4, 8) (2, 10) (2, 12) \n"
          ]
        }
      ]
    },
    {
      "cell_type": "markdown",
      "source": [
        "**in adjacency list u is idx of the list and and v is the append item"
      ],
      "metadata": {
        "id": "NnkynQ2Ua0Jb"
      }
    },
    {
      "cell_type": "markdown",
      "source": [
        "task2"
      ],
      "metadata": {
        "id": "eZaGqIgDe25H"
      }
    },
    {
      "cell_type": "markdown",
      "source": [
        "BFS"
      ],
      "metadata": {
        "id": "uzWPs3qgf9Cd"
      }
    },
    {
      "cell_type": "markdown",
      "source": [
        "Task_02"
      ],
      "metadata": {
        "id": "KVwKsN5B1T8g"
      }
    },
    {
      "cell_type": "code",
      "source": [
        "inp = open(\"/content/input.txt\",\"r\")\n",
        "output = open(\"/content/output.txt\",\"w\")\n",
        "N,M = map(int,inp.readline().split(\" \"))\n",
        "\n",
        "from collections import defaultdict,deque\n",
        "\n",
        "q = deque()\n",
        "\n",
        "graph = defaultdict(list)\n",
        "\n",
        "for i in range(M) :\n",
        "  u,v = map(int,inp.readline().split(\" \"))\n",
        "  graph[u].append(v)\n",
        "  graph[v].append(u)\n",
        "\n",
        "visited = []\n",
        "\n",
        "def bfs(graph,start) :\n",
        "  q.append(start)\n",
        "  visited.append(start)\n",
        "\n",
        "  while q :\n",
        "    node = q.popleft()\n",
        "    print(node,end=\" \")\n",
        "\n",
        "    for neighbour in graph[node] :\n",
        "      if neighbour not in visited :\n",
        "        q.append(neighbour)\n",
        "        visited.append(neighbour)\n",
        "\n",
        "\n",
        "bfs(graph,1)"
      ],
      "metadata": {
        "colab": {
          "base_uri": "https://localhost:8080/"
        },
        "id": "KAn66WzO1XvH",
        "outputId": "a7ec2247-a623-4bb6-e692-c36a3d63d58a"
      },
      "execution_count": null,
      "outputs": [
        {
          "output_type": "stream",
          "name": "stdout",
          "text": [
            "1 3 4 7 2 6 5 "
          ]
        }
      ]
    },
    {
      "cell_type": "markdown",
      "source": [
        "task_03"
      ],
      "metadata": {
        "id": "f1FcaT8V-icE"
      }
    },
    {
      "cell_type": "markdown",
      "source": [
        "dfs"
      ],
      "metadata": {
        "id": "3tAoJrJFFksf"
      }
    },
    {
      "cell_type": "code",
      "source": [
        "inp = open(\"/content/input.txt\",\"r\")\n",
        "output = open(\"/content/output.txt\",\"w\")\n",
        "N,M = map(int,inp.readline().split(\" \"))\n",
        "\n",
        "from collections import defaultdict\n",
        "\n",
        "graph = defaultdict(list)\n",
        "\n",
        "for i in range(M) :\n",
        "  u,v = map(int,inp.readline().split(\" \"))\n",
        "  graph[u].append(v)\n",
        "  graph[v].append(u)\n",
        "\n",
        "visited = []\n",
        "\n",
        "\n",
        "def dfs(graph,start) :\n",
        "  if start not in visited :  ##\n",
        "    print(start,end=\" \")\n",
        "    visited.append(start)\n",
        "\n",
        "    for neighbour in graph[start] :  ##\n",
        "      dfs(graph,neighbour)\n",
        "\n",
        "dfs(graph,1)"
      ],
      "metadata": {
        "colab": {
          "base_uri": "https://localhost:8080/"
        },
        "id": "QMfbf7Us-j-j",
        "outputId": "ed65cfd0-dc52-409e-c287-5d3146aa4ddd"
      },
      "execution_count": null,
      "outputs": [
        {
          "output_type": "stream",
          "name": "stdout",
          "text": [
            "1 3 2 4 "
          ]
        }
      ]
    },
    {
      "cell_type": "markdown",
      "source": [
        "task_04"
      ],
      "metadata": {
        "id": "Jlo2ciWBR2CQ"
      }
    },
    {
      "cell_type": "markdown",
      "source": [
        "cycle detection"
      ],
      "metadata": {
        "id": "rn035XNZc032"
      }
    },
    {
      "cell_type": "markdown",
      "source": [
        "directed graph (given task) color #1110"
      ],
      "metadata": {
        "id": "6ZLxi_IlIUUa"
      }
    },
    {
      "cell_type": "code",
      "source": [
        "inp = open(\"/content/input.txt\",\"r\")\n",
        "output = open(\"/content/output.txt\",\"w\")\n",
        "N,M = map(int,inp.readline().split(\" \"))\n",
        "\n",
        "from collections import defaultdict,deque\n",
        "\n",
        "q = deque()\n",
        "\n",
        "graph = defaultdict(list)\n",
        "\n",
        "for i in range(M) :\n",
        "  u,v = map(int,inp.readline().split(\" \"))\n",
        "  graph[u].append(v)\n",
        "\n",
        "visited = []\n",
        "color = [-1]*(N+1)\n",
        "\n",
        "def bfs(graph,start) :\n",
        "  q.append(start)\n",
        "  visited.append(start)\n",
        "  color[start] = 1\n",
        "\n",
        "  while q :\n",
        "    node = q.popleft()\n",
        "    print(node)\n",
        "    color[node] = 1\n",
        "\n",
        "    for neighbour in graph[node] :\n",
        "      if color[neighbour] == 1 :\n",
        "        print(\"True\")\n",
        "      if neighbour not in visited :\n",
        "        color[neighbour] = 0\n",
        "        q.append(neighbour)\n",
        "        visited.append(neighbour)\n",
        "\n",
        "\n",
        "bfs(graph,1)\n",
        "print(color)"
      ],
      "metadata": {
        "colab": {
          "base_uri": "https://localhost:8080/"
        },
        "id": "lHjVADclu6R3",
        "outputId": "52a6ab79-5b08-48c5-a53b-0a4d9bf8dcc3"
      },
      "execution_count": null,
      "outputs": [
        {
          "output_type": "stream",
          "name": "stdout",
          "text": [
            "1\n",
            "4\n",
            "3\n",
            "True\n",
            "2\n",
            "[-1, 1, 1, 1, 1]\n"
          ]
        }
      ]
    },
    {
      "cell_type": "markdown",
      "source": [
        "Undirected graph (brainstorming) color #1100"
      ],
      "metadata": {
        "id": "8unhF4lAIY0U"
      }
    },
    {
      "cell_type": "code",
      "source": [
        "inp = open(\"/content/input.txt\",\"r\")\n",
        "output = open(\"/content/output.txt\",\"w\")\n",
        "N,M = map(int,inp.readline().split(\" \"))\n",
        "\n",
        "from collections import defaultdict,deque\n",
        "\n",
        "q = deque()\n",
        "\n",
        "graph = defaultdict(list)\n",
        "\n",
        "for i in range(M) :\n",
        "  u,v = map(int,inp.readline().split(\" \"))\n",
        "  graph[u].append(v)\n",
        "  graph[v].append(u)\n",
        "\n",
        "visited = []\n",
        "color = [-1]*(N+1)\n",
        "\n",
        "def bfs(graph,start) :\n",
        "  q.append(start)\n",
        "  visited.append(start)\n",
        "  color[start] = 1  #\n",
        "\n",
        "  while q :\n",
        "    node = q.popleft()\n",
        "    print(node)\n",
        "    color[node] = 1  #\n",
        "\n",
        "    for neighbour in graph[node] :\n",
        "      if color[neighbour] == 0 :   #\n",
        "        print(\"True\")\n",
        "      if neighbour not in visited :\n",
        "        color[neighbour] = 0   #\n",
        "        q.append(neighbour)\n",
        "        visited.append(neighbour)\n",
        "\n",
        "\n",
        "bfs(graph,1)\n",
        "print(color)"
      ],
      "metadata": {
        "colab": {
          "base_uri": "https://localhost:8080/"
        },
        "id": "ZVbSqVRKFGDN",
        "outputId": "1fbe014f-a24d-4fce-ba3f-3e73667b4d76"
      },
      "execution_count": null,
      "outputs": [
        {
          "output_type": "stream",
          "name": "stdout",
          "text": [
            "1\n",
            "3\n",
            "4\n",
            "7\n",
            "2\n",
            "6\n",
            "True\n",
            "5\n",
            "[-1, 1, 1, 1, 1, 1, 1, 1]\n"
          ]
        }
      ]
    },
    {
      "cell_type": "markdown",
      "source": [
        "task_05"
      ],
      "metadata": {
        "id": "LBoeF6jxFCLo"
      }
    },
    {
      "cell_type": "markdown",
      "source": [
        "Shortest path using bfs"
      ],
      "metadata": {
        "id": "slyU4Mw3KcSn"
      }
    },
    {
      "cell_type": "code",
      "source": [
        "inp = open(\"/content/input.txt\",\"r\")\n",
        "output = open(\"/content/output.txt\",\"w\")\n",
        "N,M,y = map(int,inp.readline().split(\" \"))\n",
        "\n",
        "from collections import deque, defaultdict\n",
        "\n",
        "graph = defaultdict(list)\n",
        "\n",
        "for i in range(M) :\n",
        "  u,v = map(int,inp.readline().split(\" \"))\n",
        "  graph[u].append(v)   #append() must**\n",
        "\n",
        "visited = []\n",
        "\n",
        "q = deque()\n",
        "\n",
        "pr = [0]*(N+1)\n",
        "\n",
        "def bfs(graph,start) :\n",
        "  pr[start] = -1   ##\n",
        "  visited.append(start)\n",
        "  q.append(start)\n",
        "  while q :\n",
        "    node = q.popleft()\n",
        "    # print(node,end=\" \")\n",
        "\n",
        "    for neighbour in graph[node] :\n",
        "      if neighbour not in visited :\n",
        "        q.append(neighbour)\n",
        "        visited.append(neighbour)\n",
        "        pr[neighbour] = node    ##\n",
        "\n",
        "bfs(graph,1)\n",
        "# print()\n",
        "print(pr)\n",
        "# print(\"y:\",y)\n",
        "\n",
        "li = []\n",
        "x = 0\n",
        "i = 0\n",
        "while True :\n",
        "  li.append(y)\n",
        "  # print(y)\n",
        "  x = pr[y]\n",
        "  if x == -1 :\n",
        "    break\n",
        "  i+= 1\n",
        "  y = x\n",
        "\n",
        "print(\"Time :\",i)\n",
        "li.reverse()  # reverse\n",
        "print(\"Shortest Path:\",li)"
      ],
      "metadata": {
        "colab": {
          "base_uri": "https://localhost:8080/"
        },
        "id": "65s0epipFDQa",
        "outputId": "def693bc-9d38-49f8-ae9e-b9e52d23234d"
      },
      "execution_count": null,
      "outputs": [
        {
          "output_type": "stream",
          "name": "stdout",
          "text": [
            "[0, -1, 4, 1, 10, 2, 4, 3, 1, 3, 1, 10]\n",
            "Time : 4\n",
            "Shortest Path: [1, 10, 4, 2, 5]\n"
          ]
        }
      ]
    },
    {
      "cell_type": "markdown",
      "source": [
        "task_06"
      ],
      "metadata": {
        "id": "WXrg01Z7kxD8"
      }
    },
    {
      "cell_type": "code",
      "source": [
        "inp = open(\"/content/input.txt\",\"r\")\n",
        "output = open(\"/content/output.txt\",\"w\")\n",
        "N,M = map(int,inp.readline().split(' '))\n",
        "\n",
        "matrix = [[0]*M for i in range(N)]\n",
        "print(matrix)\n",
        "for j in range(N) :\n",
        "  x = inp.readline().split(\" \")\n",
        "  for a in range(len(x)) :\n",
        "    if x[a] == \".\" or x[a] == \".\\n\" :\n",
        "      matrix[j][a] = 1\n",
        "    if x[a] == \"D\" or x[a] == \"D\\n\" :\n",
        "      matrix[j][a] = 2\n",
        "    if x[a] == \"#\" or x[a] == \"#\\n\" :\n",
        "      matrix[j][a] = 0\n",
        "print(matrix)\n",
        "for j in matrix :\n",
        "  print(j)\n",
        "dic = {}\n",
        "a = 0\n",
        "b = 100\n",
        "for i in range(len(matrix)) :\n",
        "  li = []\n",
        "  for j in matrix[i] :\n",
        "    if j != 0 :\n",
        "      if j == 1 :\n",
        "        li.append(j+a)\n",
        "        a += 1\n",
        "      if j == 2 :\n",
        "        li.append(j+b)\n",
        "        b += 1\n",
        "\n",
        "  dic[i+1] = li\n",
        "print(dic)\n",
        "\n",
        "from collections import defaultdict,deque\n",
        "\n",
        "q = deque()\n",
        "visited = []\n",
        "\n",
        "def bfs(dic,start) :\n",
        "  q.append(start)\n",
        "  visited.append(start)\n",
        "\n",
        "  while q :\n",
        "    node = q.popleft()\n",
        "    print(node,end=\" \")\n",
        "\n",
        "    for neighbour in dic[node] :\n",
        "      if neighbour not in visited :\n",
        "        q.append(neighbour)\n",
        "        visited.append(neighbour)\n",
        "\n",
        "bfs(graph,1)"
      ],
      "metadata": {
        "colab": {
          "base_uri": "https://localhost:8080/"
        },
        "id": "ZO7Uh9mXc8SM",
        "outputId": "209c0532-c42c-4934-ec50-5ee3741842b3"
      },
      "execution_count": null,
      "outputs": [
        {
          "output_type": "stream",
          "name": "stdout",
          "text": [
            "[[0, 0, 0], [0, 0, 0], [0, 0, 0], [0, 0, 0]]\n",
            "[[1, 1, 2], [2, 1, 1], [1, 2, 1], [0, 0, 1]]\n",
            "[1, 1, 2]\n",
            "[2, 1, 1]\n",
            "[1, 2, 1]\n",
            "[0, 0, 1]\n",
            "{1: [1, 2, 102], 2: [103, 3, 4], 3: [5, 104, 6], 4: [7]}\n",
            "1 3 8 10 9 7 4 11 2 6 5 "
          ]
        }
      ]
    },
    {
      "cell_type": "markdown",
      "source": [
        "#Lab_05"
      ],
      "metadata": {
        "id": "F9lOseuZ5MpU"
      }
    },
    {
      "cell_type": "markdown",
      "source": [
        "Task_01"
      ],
      "metadata": {
        "id": "EK3nrxGnYBPa"
      }
    },
    {
      "cell_type": "markdown",
      "source": [
        "using bfs"
      ],
      "metadata": {
        "id": "ZJdFTlT8X801"
      }
    },
    {
      "cell_type": "code",
      "source": [
        "inp = open(\"/content/input.txt\",\"r\")\n",
        "output = open(\"/content/output.txt\",\"w\")\n",
        "N,M = map(int,inp.readline().split(\" \"))\n",
        "\n",
        "indegree = [0]*(N+1)   ##\n",
        "indegree[0] = -1\n",
        "from collections import defaultdict,deque\n",
        "\n",
        "q = deque()\n",
        "li = []\n",
        "graph = defaultdict(list)\n",
        "\n",
        "for i in range(M) :\n",
        "  u,v = map(int,inp.readline().split(\" \"))\n",
        "  graph[u].append(v)\n",
        "  indegree[v] += 1\n",
        "\n",
        "# print(indegree)\n",
        "\n",
        "visited = []\n",
        "\n",
        "def bfs(graph,start) :\n",
        "  q.append(start)\n",
        "  visited.append(start)\n",
        "\n",
        "  while q :\n",
        "    node = q.popleft()\n",
        "    li.append(node)\n",
        "    # print(node,end=\" \")\n",
        "\n",
        "    for neighbour in graph[node] :\n",
        "      if neighbour not in visited :\n",
        "        q.append(neighbour)\n",
        "        visited.append(neighbour)\n",
        "\n",
        "\n",
        "while 0 in indegree :\n",
        "\n",
        "  a = indegree.index(0)   #index\n",
        "  bfs(graph,a)\n",
        "  indegree[a] = -1\n",
        "  # print(a)\n",
        "\n",
        "if len(li) == N :\n",
        "  print(li)\n",
        "else :\n",
        "  print(\"impossible\")\n",
        "\n"
      ],
      "metadata": {
        "colab": {
          "base_uri": "https://localhost:8080/"
        },
        "id": "MMykVYk9Qgs9",
        "outputId": "3456f67a-964d-4cd4-b98a-714dd1fbf126"
      },
      "execution_count": null,
      "outputs": [
        {
          "output_type": "stream",
          "name": "stdout",
          "text": [
            "[1, 2, 4, 5, 3, 6, 7, 8]\n"
          ]
        }
      ]
    },
    {
      "cell_type": "markdown",
      "source": [
        "using only indegree"
      ],
      "metadata": {
        "id": "gwBVm-45Z0Mo"
      }
    },
    {
      "cell_type": "code",
      "source": [
        "inp = open(\"/content/input.txt\",\"r\")\n",
        "output = open(\"/content/output.txt\",\"w\")\n",
        "N,M = map(int,inp.readline().split(\" \"))\n",
        "\n",
        "bb = [tuple(map(int,inp.readline().split(\" \"))) for j in range(M)]\n",
        "# print(bb)\n",
        "\n",
        "indegree = [0]*(N+1)\n",
        "indegree[0] = -1\n",
        "\n",
        "for i in range(len(bb)) :\n",
        "  x = (bb[i][1])\n",
        "  indegree[x] += 1\n",
        "\n",
        "# print(indegree)\n",
        "li = []\n",
        "while 0 in indegree :\n",
        "  a = indegree.index(0)\n",
        "  li.append(a)\n",
        "  indegree[a] = -1\n",
        "  for i in range(len(bb)) :\n",
        "    if a == (bb[i][0]) :\n",
        "      indegree[(bb[i][1])] -= 1\n",
        "# print(li)\n",
        "if len(li) == N :\n",
        "  print(li)\n",
        "else :\n",
        "  print(\"impossible\")"
      ],
      "metadata": {
        "colab": {
          "base_uri": "https://localhost:8080/"
        },
        "id": "h98qEXYXX6-I",
        "outputId": "410881ab-a7b8-4e89-b87f-09616dd1922f"
      },
      "execution_count": null,
      "outputs": [
        {
          "output_type": "stream",
          "name": "stdout",
          "text": [
            "[3, 1, 2, 4, 5]\n"
          ]
        }
      ]
    },
    {
      "cell_type": "markdown",
      "source": [
        "using dfs only"
      ],
      "metadata": {
        "id": "DfGTE3n1ayRB"
      }
    },
    {
      "cell_type": "code",
      "source": [
        "inp = open(\"/content/input.txt\",\"r\")\n",
        "output = open(\"/content/output.txt\",\"w\")\n",
        "N,M = map(int,inp.readline().split(\" \"))\n",
        "\n",
        "from collections import defaultdict\n",
        "\n",
        "graph = defaultdict(list)\n",
        "indegree = [0]*(N+1)   ##\n",
        "indegree[0] = -1\n",
        "for i in range(M) :\n",
        "  u,v = map(int,inp.readline().split(\" \"))\n",
        "  graph[u].append(v)\n",
        "  indegree[v] += 1\n",
        "\n",
        "visited = []\n",
        "li = []\n",
        "def dfs(graph,start) :\n",
        "  if start not in visited :\n",
        "    visited.append(start)\n",
        "    # print(start)\n",
        "    li.append(start)\n",
        "    for neighbour in graph[start] :\n",
        "      dfs(graph,neighbour)\n",
        "\n",
        "while 0 in indegree :\n",
        "\n",
        "  a = indegree.index(0)   #index\n",
        "  dfs(graph,a)\n",
        "  indegree[a] = -1\n",
        "\n",
        "  # print(a)\n",
        "\n",
        "if len(li) == N :\n",
        "  print(li)\n",
        "else :\n",
        "  print(\"impossible\")"
      ],
      "metadata": {
        "colab": {
          "base_uri": "https://localhost:8080/"
        },
        "id": "4pNl3EO6a0DE",
        "outputId": "edc50591-e0d7-421a-d4f9-a0f3258d1819"
      },
      "execution_count": null,
      "outputs": [
        {
          "output_type": "stream",
          "name": "stdout",
          "text": [
            "[3, 1, 2, 4, 5]\n"
          ]
        }
      ]
    },
    {
      "cell_type": "markdown",
      "source": [
        "task_02 (lexiographically)"
      ],
      "metadata": {
        "id": "5wn3kRmHoLpN"
      }
    },
    {
      "cell_type": "code",
      "source": [
        "inp = open(\"/content/input.txt\",\"r\")\n",
        "output = open(\"/content/output.txt\",\"w\")\n",
        "N,M = map(int,inp.readline().split(\" \"))\n",
        "\n",
        "bb = [tuple(map(int,inp.readline().split(\" \"))) for j in range(M)]\n",
        "# print(bb)\n",
        "\n",
        "indegree = [0]*(N+1)\n",
        "indegree[0] = -1\n",
        "\n",
        "for i in range(len(bb)) :\n",
        "  x = (bb[i][1])\n",
        "  indegree[x] += 1\n",
        "\n",
        "# print(indegree)\n",
        "li = []\n",
        "\n",
        "while 0 in indegree :\n",
        "\n",
        "  a = indegree.index(0)\n",
        "  li.append(a)   ##\n",
        "  indegree[a] = -1\n",
        "\n",
        "  for i in range(len(bb)) :\n",
        "    if a == (bb[i][0]) :\n",
        "      indegree[(bb[i][1])] -= 1\n",
        "\n",
        "# print(li)\n",
        "if len(li) == N :\n",
        "  print(li)\n",
        "else :\n",
        "  print(\"impossible\")"
      ],
      "metadata": {
        "colab": {
          "base_uri": "https://localhost:8080/"
        },
        "id": "0H0PWIsso5Kr",
        "outputId": "7bfa659e-917d-4d7c-c4b1-c42d7b5aa6d0"
      },
      "execution_count": null,
      "outputs": [
        {
          "output_type": "stream",
          "name": "stdout",
          "text": [
            "[1, 2, 4, 6, 5, 3, 7, 8]\n"
          ]
        }
      ]
    },
    {
      "cell_type": "markdown",
      "source": [
        "task_03"
      ],
      "metadata": {
        "id": "I-Twlv5dw4iM"
      }
    },
    {
      "cell_type": "code",
      "source": [
        "inp = open(\"/content/input.txt\",\"r\")\n",
        "output = open(\"/content/output.txt\",\"w\")\n",
        "N,M = map(int,inp.readline().split(\" \"))\n",
        "\n",
        "from collections import defaultdict\n",
        "\n",
        "graph = defaultdict(list)\n",
        "t_graph = defaultdict(list)\n",
        "for i in range(M) :\n",
        "  u,v = map(int,inp.readline().split(\" \"))\n",
        "  graph[u].append(v)\n",
        "  t_graph[v].append(u)\n",
        "\n",
        "visited = []\n",
        "sequ = []\n",
        "def dfs(graph,start) :\n",
        "  if start not in visited :\n",
        "    visited.append(start)\n",
        "    sequ.append(start)\n",
        "    for neighbour in graph[start] :\n",
        "      dfs(graph,neighbour)\n",
        "dfs(graph,1)\n",
        "# print(sequ)\n",
        "\n",
        "visited = []\n",
        "pp = sequ.copy()\n",
        "\n",
        "def dfs2(graph,start) :\n",
        "  if start not in visited :\n",
        "    visited.append(start)\n",
        "    pp.remove(start)   ##\n",
        "    li.append(start)   ##\n",
        "    for neighbour in t_graph[start] :  #t_graph\n",
        "      dfs2(t_graph,neighbour)   #t_graph\n",
        "\n",
        "for i in sequ :\n",
        "  li = []\n",
        "  if i in pp :\n",
        "    dfs2(t_graph,i)\n",
        "    print(li)"
      ],
      "metadata": {
        "colab": {
          "base_uri": "https://localhost:8080/"
        },
        "id": "PaSQgpAEw36A",
        "outputId": "0e232ff5-2d92-47cd-b101-b83fd870e87a"
      },
      "execution_count": null,
      "outputs": [
        {
          "output_type": "stream",
          "name": "stdout",
          "text": [
            "[1]\n",
            "[2, 6, 4, 3]\n",
            "[5, 7]\n"
          ]
        }
      ]
    },
    {
      "cell_type": "markdown",
      "source": [
        "#Lab_06"
      ],
      "metadata": {
        "id": "HVcoGkO74CK1"
      }
    },
    {
      "cell_type": "markdown",
      "source": [
        "task_01"
      ],
      "metadata": {
        "id": "P1RBjnwx77s4"
      }
    },
    {
      "cell_type": "markdown",
      "source": [
        "dijkstra algo"
      ],
      "metadata": {
        "id": "eyvnAU38Z6am"
      }
    },
    {
      "cell_type": "code",
      "source": [
        "inp = open(\"/content/input.txt\",\"r\")\n",
        "output = open(\"/content/output.txt\",\"w\")\n",
        "N,M = map(int,inp.readline().split(\" \"))\n",
        "\n",
        "bb = [tuple(map(int,inp.readline().split(\" \"))) for j in range(M)]\n",
        "\n",
        "# print(bb)\n",
        "import math\n",
        "\n",
        "value = [math.inf]*(N+1)\n",
        "\n",
        "copy_value = value.copy()\n",
        "\n",
        "pr = [-1]*(N+1)\n",
        "\n",
        "# print(value)\n",
        "source = int(inp.readline())\n",
        "# print(source)\n",
        "value[source] = 0\n",
        "copy_value[source] = 0\n",
        "\n",
        "for i in range(len(value)) :\n",
        "\n",
        "  n = min(copy_value)\n",
        "  node = copy_value.index(n)\n",
        "  copy_value[node] = math.inf\n",
        "\n",
        "  for i in range(len(bb)) :\n",
        "    if bb[i][0] == node :\n",
        "      u = bb[i][0]\n",
        "      v = bb[i][1]\n",
        "      w = bb[i][2]\n",
        "      cal = value[u] + w\n",
        "      if value[v] > cal :\n",
        "        value[v] = cal\n",
        "        copy_value[v] = cal\n",
        "        pr[v] = u\n",
        "\n",
        "\n",
        "# unvisted\n",
        "value[0] = 0\n",
        "for i in value :\n",
        "  if i == math.inf :\n",
        "    print(-1,end=\" \")\n",
        "  else :\n",
        "    print(i,end=\" \")\n",
        "\n",
        "\n",
        "# print(value)\n",
        "\n",
        "# print(pr)"
      ],
      "metadata": {
        "colab": {
          "base_uri": "https://localhost:8080/"
        },
        "id": "uvXuw8S-4EWj",
        "outputId": "71eb9979-1909-4beb-d02d-1de47e541162"
      },
      "execution_count": null,
      "outputs": [
        {
          "output_type": "stream",
          "name": "stdout",
          "text": [
            "0 5 8 0 2 4 -1 "
          ]
        }
      ]
    },
    {
      "cell_type": "markdown",
      "source": [
        "task_02"
      ],
      "metadata": {
        "id": "jOvb3ETA79Ky"
      }
    },
    {
      "cell_type": "markdown",
      "source": [
        "meeting place task"
      ],
      "metadata": {
        "id": "jlhFIKtvZ3Z8"
      }
    },
    {
      "cell_type": "code",
      "source": [
        "inp = open(\"/content/input.txt\",\"r\")\n",
        "output = open(\"/content/output.txt\",\"w\")\n",
        "N,M = map(int,inp.readline().split(\" \"))\n",
        "\n",
        "bb = [tuple(map(int,inp.readline().split(\" \"))) for j in range(M)]\n",
        "\n",
        "# print(bb)\n",
        "import math\n",
        "\n",
        "value = [math.inf]*(N+1)\n",
        "\n",
        "copy_value = value.copy()\n",
        "\n",
        "pr = [-1]*(N+1)\n",
        "\n",
        "# print(value)\n",
        "A,B = map(int,inp.readline().split(\" \"))\n",
        "source = A\n",
        "# print(source)\n",
        "value[source] = 0\n",
        "copy_value[source] = 0\n",
        "\n",
        "for i in range(len(value)) :\n",
        "\n",
        "  n = min(copy_value)\n",
        "  node = copy_value.index(n)\n",
        "  copy_value[node] = math.inf\n",
        "\n",
        "  for i in range(len(bb)) :\n",
        "    if bb[i][0] == node :\n",
        "      u = bb[i][0]\n",
        "      v = bb[i][1]\n",
        "      w = bb[i][2]\n",
        "      cal = value[u] + w\n",
        "      if value[v] > cal :\n",
        "        value[v] = cal\n",
        "        copy_value[v] = cal\n",
        "        pr[v] = u\n",
        "# print(pr)\n",
        "# print(value)\n",
        "\n",
        "alice = []\n",
        "\n",
        "for i in value:\n",
        "  alice.append(i)\n",
        "\n",
        "\n",
        "################################\n",
        "\n",
        "value = [math.inf]*(N+1)\n",
        "\n",
        "copy_value = value.copy()\n",
        "\n",
        "pr = [-1]*(N+1)\n",
        "\n",
        "\n",
        "source = B\n",
        "# print(source)\n",
        "value[source] = 0\n",
        "copy_value[source] = 0\n",
        "\n",
        "for i in range(len(value)) :\n",
        "\n",
        "  n = min(copy_value)\n",
        "  node = copy_value.index(n)\n",
        "  copy_value[node] = math.inf\n",
        "\n",
        "  for i in range(len(bb)) :\n",
        "    if bb[i][0] == node :\n",
        "      u = bb[i][0]\n",
        "      v = bb[i][1]\n",
        "      w = bb[i][2]\n",
        "      cal = value[u] + w\n",
        "      if value[v] > cal :\n",
        "        value[v] = cal\n",
        "        copy_value[v] = cal\n",
        "        pr[v] = u\n",
        "# print(pr)\n",
        "# print(value)\n",
        "\n",
        "bob = []\n",
        "\n",
        "for i in value:\n",
        "  bob.append(i)\n",
        "\n",
        "# print(alice)\n",
        "# print(bob)\n",
        "time = []\n",
        "\n",
        "target = math.inf\n",
        "idx = 0\n",
        "\n",
        "for i in range(N+1) :\n",
        "  if alice[i] != math.inf and bob[i] != math.inf :\n",
        "    maximum = max(alice[i],bob[i])\n",
        "    if maximum < target :\n",
        "      target =  maximum\n",
        "      idx = i\n",
        "if target == math.inf and idx == 0 :\n",
        "  print(\"Impossible\")\n",
        "else :\n",
        "  print(\"Time\",target)\n",
        "  print(\"Node\",idx)\n",
        "\n"
      ],
      "metadata": {
        "colab": {
          "base_uri": "https://localhost:8080/"
        },
        "id": "ZoXDWjnH7-hO",
        "outputId": "66071020-c828-485a-b61e-ea0ff5067680"
      },
      "execution_count": null,
      "outputs": [
        {
          "output_type": "stream",
          "name": "stdout",
          "text": [
            "Time 8\n",
            "Node 2\n"
          ]
        }
      ]
    },
    {
      "cell_type": "markdown",
      "source": [
        "task_03"
      ],
      "metadata": {
        "id": "-HtL-yXuaCFq"
      }
    },
    {
      "cell_type": "markdown",
      "source": [
        "**For shortest path and minimum danger"
      ],
      "metadata": {
        "id": "JmGzoE-V6f4N"
      }
    },
    {
      "cell_type": "code",
      "source": [
        "inp = open(\"/content/input.txt\",\"r\")\n",
        "output = open(\"/content/output.txt\",\"w\")\n",
        "N,M = map(int,inp.readline().split(\" \"))\n",
        "\n",
        "start = 1\n",
        "\n",
        "bb = [tuple(map(int,inp.readline().split(\" \"))) for j in range(M)]\n",
        "# print(bb)\n",
        "\n",
        "import math\n",
        "\n",
        "value = [math.inf]*(N+1)\n",
        "value[start] = 0\n",
        "value_copy = value.copy()\n",
        "pr = [-1]*(N+1)\n",
        "\n",
        "for i in range(len(value)) :\n",
        "\n",
        "  n = min(value_copy)\n",
        "  node = value_copy.index(n)\n",
        "  value_copy[node] = math.inf\n",
        "\n",
        "  for i in range(len(bb)) :\n",
        "    if node == bb[i][0] :\n",
        "      u = bb[i][0]\n",
        "      v = bb[i][1]\n",
        "      w = bb[i][2]\n",
        "      cal = value[u] + w\n",
        "      if value[v] > cal :\n",
        "        value[v] = cal\n",
        "        value_copy[v] = cal\n",
        "        pr[v] = node\n",
        "\n",
        "# print(value)\n",
        "# print(pr)\n",
        "\n",
        "\n",
        "y = N\n",
        "target = math.inf\n",
        "x = 0\n",
        "while x != -1 :\n",
        "\n",
        "  x = pr[y]\n",
        "  a = value[y]\n",
        "  b = value[x]\n",
        "  cal = a-b\n",
        "  path = min(a,b,cal)\n",
        "  # print(path)\n",
        "  y = x\n",
        "  if path < target and path > 0 :\n",
        "    target = path\n",
        "print(target)"
      ],
      "metadata": {
        "colab": {
          "base_uri": "https://localhost:8080/"
        },
        "id": "UqQj-YHIaDEU",
        "outputId": "71d8c2cd-bc44-47af-a94a-866ddc186402"
      },
      "execution_count": null,
      "outputs": [
        {
          "output_type": "stream",
          "name": "stdout",
          "text": [
            "6\n"
          ]
        }
      ]
    },
    {
      "cell_type": "markdown",
      "source": [
        "#Lab_07"
      ],
      "metadata": {
        "id": "iEQ99L1BD4xo"
      }
    },
    {
      "cell_type": "code",
      "source": [
        "li = [(1,2),(10,4),(4,6),(17,1)]\n",
        "li.sort()\n",
        "print(li)\n",
        "li.sort(key=lambda a : a[1])\n",
        "print(li)"
      ],
      "metadata": {
        "colab": {
          "base_uri": "https://localhost:8080/"
        },
        "id": "Q0s8DLFQD6nM",
        "outputId": "5b328339-4377-43df-b2db-3dd14896e0d8"
      },
      "execution_count": null,
      "outputs": [
        {
          "output_type": "stream",
          "name": "stdout",
          "text": [
            "[(1, 2), (4, 6), (10, 4), (17, 1)]\n",
            "[(17, 1), (1, 2), (10, 4), (4, 6)]\n"
          ]
        }
      ]
    },
    {
      "cell_type": "markdown",
      "source": [
        "task_01"
      ],
      "metadata": {
        "id": "yow8zeRfgS8q"
      }
    },
    {
      "cell_type": "code",
      "source": [
        "inp = open(\"/content/input.txt\",\"r\")\n",
        "output = open(\"/content/output.txt\",\"w\")\n",
        "N = int(inp.readline())\n",
        "bb = [tuple(map(int,inp.readline().split(\" \"))) for j in range(N)]\n",
        "# print(bb)\n",
        "bb.sort(key = lambda a :a[1])\n",
        "# print(bb)\n",
        "li = []\n",
        "li.append(bb[0])\n",
        "\n",
        "for i in range(len(bb)) :\n",
        "  last = li[-1][1]\n",
        "  if bb[i][0] >= last :\n",
        "    li.append(bb[i])\n",
        "\n",
        "print(len(li))\n",
        "# print(li)\n",
        "for a in li :\n",
        "  print(a[0],a[1])"
      ],
      "metadata": {
        "colab": {
          "base_uri": "https://localhost:8080/"
        },
        "id": "rH3yBS9nhyjK",
        "outputId": "703d92e2-3d41-4e7c-ffd4-e43f9230fe1d"
      },
      "execution_count": null,
      "outputs": [
        {
          "output_type": "stream",
          "name": "stdout",
          "text": [
            "5\n",
            "1 2\n",
            "2 3\n",
            "3 4\n",
            "6 9\n",
            "9 10\n"
          ]
        }
      ]
    },
    {
      "cell_type": "markdown",
      "source": [
        "task_02"
      ],
      "metadata": {
        "id": "DMfR7pEqovg5"
      }
    },
    {
      "cell_type": "code",
      "source": [
        "inp = open(\"/content/input.txt\",\"r\")\n",
        "output = open(\"/content/output.txt\",\"w\")\n",
        "N,M = map(int,inp.readline().split(\" \"))\n",
        "bb = [tuple(map(int,inp.readline().split(\" \"))) for j in range(N)]\n",
        "# print(bb)\n",
        "bb.sort(key=lambda a:a[1])\n",
        "# print(bb)\n",
        "\n",
        "total_li = []\n",
        "\n",
        "for i in range(M) :\n",
        "  li = []\n",
        "  for i in range(len(bb)) :\n",
        "    if bb[i] != 0 :\n",
        "      li.append(bb[i])\n",
        "      bb[i] = 0\n",
        "      # print(\"R\" ,i)\n",
        "      break\n",
        "  for i in range(len(bb)) :\n",
        "    last = li[-1][1]\n",
        "    min_li = []\n",
        "    for i in range(len(bb)) :\n",
        "      if bb[i] != 0 :\n",
        "        if bb[i][0] >= last :\n",
        "          diff = bb[i][0]-last\n",
        "          min_li.append(diff)\n",
        "    if min_li != [] :\n",
        "      minimum = min(min_li)\n",
        "      target = last + minimum\n",
        "      for i in range(len(bb)) :\n",
        "        if bb[i] != 0 :\n",
        "          if bb[i][0] == target :\n",
        "            li.append(bb[i])\n",
        "            bb[i] = 0\n",
        "\n",
        "  total_li.append(li)\n",
        "\n",
        "print(total_li)\n",
        "sum = 0\n",
        "for i in total_li :\n",
        "  sum += len(i)\n",
        "print(sum)\n",
        "# print(bb)"
      ],
      "metadata": {
        "colab": {
          "base_uri": "https://localhost:8080/"
        },
        "id": "6DhSpYyYTxMO",
        "outputId": "dea4062c-a09e-40ce-f579-0db6a3e688d1"
      },
      "execution_count": null,
      "outputs": [
        {
          "output_type": "stream",
          "name": "stdout",
          "text": [
            "[[(1, 3), (3, 5), (5, 7), (7, 9)], [(2, 4), (6, 8), (8, 10)], [(2, 6)]]\n",
            "8\n"
          ]
        }
      ]
    },
    {
      "cell_type": "markdown",
      "source": [
        "task_03"
      ],
      "metadata": {
        "id": "DIFGeda-Mvgu"
      }
    },
    {
      "cell_type": "code",
      "source": [
        "inp = open(\"/content/input.txt\",\"r\")\n",
        "x = inp.readline()\n",
        "x = x.split(\" \")\n",
        "N = int(x[0])\n",
        "M = int(x[1])\n",
        "output = open(\"/content/output.txt\",\"w\")\n",
        "\n",
        "bb = [tuple(map(int, inp.readline().split())) for _ in range(M)]\n",
        "\n",
        "print(bb)\n",
        "\n",
        "# build size\n",
        "size = [1]*(M+2)\n",
        "size[0] = 0\n",
        "print(size)\n",
        "\n",
        "#build parent\n",
        "pr = []\n",
        "for i in range((M+2)) :\n",
        "  pr.append(i)\n",
        "print(pr)\n",
        "\n",
        "## findpr function\n",
        "def findpr(r) :\n",
        "  if r == pr[r] :\n",
        "    return r\n",
        "  pr[r] = findpr(pr[r])\n",
        "  return pr[r]\n",
        "\n",
        "for i in range(len(bb)) :\n",
        "  a = bb[i][0]\n",
        "  b = bb[i][1]\n",
        "  # print(a)\n",
        "  # print(b)\n",
        "  x = findpr(a)\n",
        "  y = findpr(b)\n",
        "  if x != y :\n",
        "\n",
        "    pr[y] = x\n",
        "    cal = size[x] + size[y]\n",
        "    size[x] = cal\n",
        "    print(size[x], file = output)\n",
        "  else :\n",
        "    print(size[x], file = output)\n",
        "\n",
        "output.close()"
      ],
      "metadata": {
        "colab": {
          "base_uri": "https://localhost:8080/"
        },
        "id": "0RCo6h2wUnyO",
        "outputId": "09b3c631-bd93-43f3-96fe-87dd5b2576fe"
      },
      "execution_count": null,
      "outputs": [
        {
          "output_type": "stream",
          "name": "stdout",
          "text": [
            "[(1, 2), (3, 4), (1, 4)]\n",
            "[0, 1, 1, 1, 1]\n",
            "[0, 1, 2, 3, 4]\n"
          ]
        }
      ]
    }
  ]
}